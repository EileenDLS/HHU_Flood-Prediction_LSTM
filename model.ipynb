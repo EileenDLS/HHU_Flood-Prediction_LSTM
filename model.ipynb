{
 "cells": [
  {
   "cell_type": "code",
   "execution_count": 21,
   "metadata": {},
   "outputs": [],
   "source": [
    "from math import sqrt\n",
    "from numpy import concatenate\n",
    "import pandas as pd\n",
    "from pandas import DataFrame\n",
    "from pandas import concat\n",
    "import numpy as np\n",
    "import matplotlib.pyplot as plt\n",
    "from sklearn.preprocessing import MinMaxScaler, LabelEncoder, StandardScaler\n",
    "from sklearn.metrics import mean_squared_error\n",
    "\n",
    "from keras.models import Sequential\n",
    "from keras.layers import LSTM, Dense, Activation\n",
    "\n",
    "\n",
    "import tensorflow as tf\n",
    "from keras.backend.tensorflow_backend import set_session\n",
    "config = tf.compat.v1.ConfigProto()\n",
    "config.gpu_options.allocator_type = 'BFC' #A \"Best-fit with coalescing\" algorithm, simplified from a version of dlmalloc.\n",
    "config.gpu_options.per_process_gpu_memory_fraction = 0.8\n",
    "config.gpu_options.allow_growth = True\n",
    "tf.compat.v1.keras.backend.set_session(tf.compat.v1.Session(config=config)) "
   ]
  },
  {
   "cell_type": "code",
   "execution_count": 22,
   "metadata": {},
   "outputs": [],
   "source": [
    "def series_to_supervised(data, n_in=1, n_out=1, dropnan=True):\n",
    "    \"\"\"\n",
    "    data：作为列表或二维 NumPy 数组的观察序列。\n",
    "    n_in：作为输入 ( X )的滞后观察数。值可能介于 [1..len(data)] 之间 可选。默认为 1。\n",
    "    n_out：作为输出的观察数（y）。值可能介于 [0..len(data)-1] 之间。可选的。默认为 1。\n",
    "    dropnan：布尔值是否删除具有 NaN 值的行。可选的。默认为真。\n",
    "    Returns:\n",
    "        Pandas DataFrame of series framed for supervised learning.\n",
    "    \"\"\"\n",
    "    n_vars = 1 if type(data) is list else data.shape[1]  # 特征数\n",
    "    df = DataFrame(data)\n",
    "    cols, names = list(), list()\n",
    "    # input sequence (t-n, ... t-1)\n",
    "    for i in range(n_in, 0, -1):\n",
    "        cols.append(df.shift(i))\n",
    "        names += [('var%d(t-%d)' % (j+1, i)) for j in range(n_vars)]\n",
    "    # forecast sequence (t, t+1, ... t+n)\n",
    "    for i in range(0, n_out):\n",
    "        cols.append(df.shift(-i))\n",
    "        if i == 0:\n",
    "            names += [('var%d(t)' % (j+1)) for j in range(n_vars)]\n",
    "        else:\n",
    "            names += [('var%d(t+%d)' % (j+1, i)) for j in range(n_vars)]\n",
    "    # put it all together\n",
    "    agg = concat(cols, axis=1)\n",
    "    agg.columns = names\n",
    "    # drop rows with NaN values\n",
    "    if dropnan:\n",
    "        agg.dropna(inplace=True)\n",
    "    return agg"
   ]
  },
  {
   "cell_type": "code",
   "execution_count": 23,
   "metadata": {},
   "outputs": [],
   "source": [
    "# load dataset\n",
    "\n",
    "def load_data(file_name):\n",
    "    df = np.load(file_name, allow_pickle=True)\n",
    "    df_ = df[:, 1:] # 去除时间列,每一行表示一个小时\n",
    "\n",
    "    data_all = df_\n",
    "\n",
    "    encoder = LabelEncoder()\n",
    "    data_all[:,0] = encoder.fit_transform(data_all[:, 0])\n",
    "    data_all = data_all\n",
    "    scaler = MinMaxScaler(feature_range=(0,1))\n",
    "    scaled = scaler.fit_transform(data_all)\n",
    "\n",
    "    reframed = series_to_supervised(scaled, 1, 1)\n",
    "    reframed.drop(reframed.columns[[8,9,10,11,12,13]], axis=1, inplace=True)\n",
    "    \n",
    "    return reframed, scaler\n"
   ]
  },
  {
   "cell_type": "code",
   "execution_count": 24,
   "metadata": {},
   "outputs": [],
   "source": [
    "## R2\n",
    "import keras.backend as K\n",
    "def r2(y_true, y_pred):\n",
    "    y_true = K.constant(y_true)\n",
    "    y_pred = K.constant(y_pred)\n",
    "    a = K.square(y_pred - y_true)\n",
    "    b = K.sum(a)\n",
    "    c = K.mean(y_true)\n",
    "    d = K.square(y_true - c)\n",
    "    e = K.sum(d)\n",
    "    f = 1 - b/e\n",
    "    return f\n",
    "\n",
    "\n",
    "def RE(y_true, y_pred):\n",
    "    E = K.abs(K.constant(y_true) - K.constant(y_pred))/K.constant(y_true)\n",
    "    return E\n",
    "\n",
    "def delt_t(y_true, y_pred):\n",
    "#     y_true = K.constant(y_true)\n",
    "#     y_pred = K.constant(y_pred)\n",
    "# #     test_y = K.constant(test_y)\n",
    "# #     pred = K.constant(pred)\n",
    "    \n",
    "#     t_true = K.equal(y_true, y_true)\n",
    "#     t_true_ = K.tf.where(t_true)[-1]\n",
    "    \n",
    "#     t_pred = K.equal(y_true, y_pred)\n",
    "#     t_pred_ = K.tf.where(t_pred)[-1]\n",
    "    y_true = y_true\n",
    "    y_pred = y_pred\n",
    "#     test_y = K.constant(test_y)\n",
    "#     pred = K.constant(pred)\n",
    "    \n",
    "    t_true = np.equal(y_true, y_true)\n",
    "    print(t_true.shape)\n",
    "    t_true_ = np.where(t_true)[-1]\n",
    "    print(t_true_.shape)\n",
    "    t_pred = np.equal(y_true, y_pred)\n",
    "    print(t_pred.shape)\n",
    "    t_pred_ = np.where(t_pred)[-1]\n",
    "    print(t_pred_.shape)\n",
    "    delta_time = t_true_ - t_pred_\n",
    "    \n",
    "    return delta_time"
   ]
  },
  {
   "cell_type": "code",
   "execution_count": null,
   "metadata": {},
   "outputs": [],
   "source": []
  },
  {
   "cell_type": "markdown",
   "metadata": {},
   "source": [
    "# 加载实验数据集"
   ]
  },
  {
   "cell_type": "code",
   "execution_count": 25,
   "metadata": {},
   "outputs": [],
   "source": [
    "train_data_1, scaler = load_data('./data/data_2003.npy')\n",
    "train_data_2, scaler = load_data('./data/data_2004.npy')\n",
    "train_data_3, scaler = load_data('./data/data_2005.npy')\n",
    "train_data_4, scaler = load_data('./data/data_2006.npy')\n",
    "train_data_5, scaler = load_data('./data/data_2007.npy')\n",
    "train_data_6, scaler = load_data('./data/data_2008.npy')\n",
    "\n",
    "test_data_1, scaler = load_data('./data/data_2009.npy')\n",
    "test_data_2, scaler = load_data('./data/data_2010.npy')\n"
   ]
  },
  {
   "cell_type": "code",
   "execution_count": 26,
   "metadata": {},
   "outputs": [
    {
     "name": "stdout",
     "output_type": "stream",
     "text": [
      "(13454, 8) (5034, 8)\n"
     ]
    }
   ],
   "source": [
    "train_data = pd.concat([train_data_1, train_data_2, train_data_3, train_data_4, train_data_5, train_data_6])\n",
    "test_data = pd.concat([test_data_1, test_data_2])\n",
    "\n",
    "print(train_data.shape, test_data.shape)"
   ]
  },
  {
   "cell_type": "code",
   "execution_count": 27,
   "metadata": {},
   "outputs": [],
   "source": [
    "train_data = np.array(train_data)\n",
    "test_data = np.array(test_data)"
   ]
  },
  {
   "cell_type": "code",
   "execution_count": 28,
   "metadata": {},
   "outputs": [
    {
     "data": {
      "text/plain": [
       "array([[0.00896861, 0.        , 0.        , ..., 0.        , 0.        ,\n",
       "        0.00822123],\n",
       "       [0.00822123, 0.        , 0.        , ..., 0.        , 0.05376344,\n",
       "        0.00747384],\n",
       "       [0.00747384, 0.        , 0.        , ..., 0.        , 0.05376344,\n",
       "        0.00597907],\n",
       "       ...,\n",
       "       [0.06675749, 0.        , 0.        , ..., 0.        , 0.        ,\n",
       "        0.0653951 ],\n",
       "       [0.0653951 , 0.        , 0.        , ..., 0.        , 0.        ,\n",
       "        0.0626703 ],\n",
       "       [0.0626703 , 0.        , 0.        , ..., 0.        , 0.        ,\n",
       "        0.0599455 ]])"
      ]
     },
     "execution_count": 28,
     "metadata": {},
     "output_type": "execute_result"
    }
   ],
   "source": [
    "train_data"
   ]
  },
  {
   "cell_type": "code",
   "execution_count": 29,
   "metadata": {},
   "outputs": [
    {
     "name": "stdout",
     "output_type": "stream",
     "text": [
      "(13454, 1, 7)\n",
      "(5034, 1, 7)\n",
      "(13454,)\n",
      "(5034,)\n"
     ]
    }
   ],
   "source": [
    "## Split into train and test sets\n",
    "train_x, train_y = train_data[:, :-1], train_data[:, -1]\n",
    "test_x, test_y = test_data[:, :-1], test_data[:, -1]\n",
    "\n",
    "## Reshape input to be 3D [samples, timesteps, features]\n",
    "train_x = train_x.reshape((train_x.shape[0], 1, train_x.shape[1]))\n",
    "test_x = test_x.reshape((test_x.shape[0], 1, test_x.shape[1]))\n",
    "\n",
    "print(train_x.shape)\n",
    "print(test_x.shape)\n",
    "print(train_y.shape)\n",
    "print(test_y.shape)\n"
   ]
  },
  {
   "cell_type": "code",
   "execution_count": null,
   "metadata": {},
   "outputs": [],
   "source": []
  },
  {
   "cell_type": "markdown",
   "metadata": {},
   "source": [
    "# 搭建模型并训练"
   ]
  },
  {
   "cell_type": "code",
   "execution_count": 30,
   "metadata": {},
   "outputs": [],
   "source": [
    "from keras.models import load_model\n",
    "from keras.callbacks import ModelCheckpoint\n",
    "\n",
    "\n",
    "filepath = \"./results/lstm_1.h5\"\n",
    "# 中途训练效果提升, 则将文件保存, 每提升一次, 保存一次\n",
    "checkpoint = ModelCheckpoint(filepath, monitor='val_loss', verbose=1, save_best_only=True,mode='max')\n",
    "callbacks_list = [checkpoint]"
   ]
  },
  {
   "cell_type": "code",
   "execution_count": 31,
   "metadata": {
    "scrolled": true
   },
   "outputs": [
    {
     "name": "stdout",
     "output_type": "stream",
     "text": [
      "Train on 10763 samples, validate on 2691 samples\n",
      "Epoch 1/50\n",
      " - 1s - loss: 0.0908 - mae: 0.2357 - val_loss: 0.0374 - val_mae: 0.1709\n",
      "Epoch 2/50\n",
      " - 1s - loss: 0.0205 - mae: 0.1208 - val_loss: 0.0114 - val_mae: 0.0944\n",
      "Epoch 3/50\n",
      " - 1s - loss: 0.0037 - mae: 0.0441 - val_loss: 7.2672e-04 - val_mae: 0.0184\n",
      "Epoch 4/50\n",
      " - 1s - loss: 4.7809e-04 - mae: 0.0111 - val_loss: 5.6277e-04 - val_mae: 0.0122\n",
      "Epoch 5/50\n",
      " - 1s - loss: 4.3174e-04 - mae: 0.0099 - val_loss: 5.4900e-04 - val_mae: 0.0118\n",
      "Epoch 6/50\n",
      " - 1s - loss: 4.1166e-04 - mae: 0.0095 - val_loss: 5.3657e-04 - val_mae: 0.0115\n",
      "Epoch 7/50\n",
      " - 1s - loss: 3.9547e-04 - mae: 0.0090 - val_loss: 5.2950e-04 - val_mae: 0.0112\n",
      "Epoch 8/50\n",
      " - 1s - loss: 3.8447e-04 - mae: 0.0087 - val_loss: 5.2661e-04 - val_mae: 0.0111\n",
      "Epoch 9/50\n",
      " - 1s - loss: 3.7674e-04 - mae: 0.0086 - val_loss: 5.3037e-04 - val_mae: 0.0112\n",
      "Epoch 10/50\n",
      " - 1s - loss: 3.6930e-04 - mae: 0.0083 - val_loss: 5.3705e-04 - val_mae: 0.0113\n",
      "Epoch 11/50\n",
      " - 1s - loss: 3.6275e-04 - mae: 0.0081 - val_loss: 5.4653e-04 - val_mae: 0.0116\n",
      "Epoch 12/50\n",
      " - 1s - loss: 3.5702e-04 - mae: 0.0079 - val_loss: 5.5782e-04 - val_mae: 0.0118\n",
      "Epoch 13/50\n",
      " - 1s - loss: 3.5208e-04 - mae: 0.0077 - val_loss: 5.7056e-04 - val_mae: 0.0121\n",
      "Epoch 14/50\n",
      " - 1s - loss: 3.4788e-04 - mae: 0.0075 - val_loss: 5.8479e-04 - val_mae: 0.0125\n",
      "Epoch 15/50\n",
      " - 1s - loss: 3.4430e-04 - mae: 0.0074 - val_loss: 6.0009e-04 - val_mae: 0.0129\n",
      "Epoch 16/50\n",
      " - 1s - loss: 3.4124e-04 - mae: 0.0073 - val_loss: 6.1575e-04 - val_mae: 0.0133\n",
      "Epoch 17/50\n",
      " - 1s - loss: 3.3862e-04 - mae: 0.0072 - val_loss: 6.3112e-04 - val_mae: 0.0137\n",
      "Epoch 18/50\n",
      " - 1s - loss: 3.3639e-04 - mae: 0.0071 - val_loss: 6.4566e-04 - val_mae: 0.0141\n",
      "Epoch 19/50\n",
      " - 1s - loss: 3.3449e-04 - mae: 0.0070 - val_loss: 6.5911e-04 - val_mae: 0.0145\n",
      "Epoch 20/50\n",
      " - 1s - loss: 3.3286e-04 - mae: 0.0069 - val_loss: 6.7124e-04 - val_mae: 0.0148\n",
      "Epoch 21/50\n",
      " - 1s - loss: 3.3146e-04 - mae: 0.0069 - val_loss: 6.8203e-04 - val_mae: 0.0151\n",
      "Epoch 22/50\n",
      " - 1s - loss: 3.3027e-04 - mae: 0.0068 - val_loss: 6.9167e-04 - val_mae: 0.0154\n",
      "Epoch 23/50\n",
      " - 1s - loss: 3.2925e-04 - mae: 0.0067 - val_loss: 7.0025e-04 - val_mae: 0.0156\n",
      "Epoch 24/50\n",
      " - 1s - loss: 3.2840e-04 - mae: 0.0067 - val_loss: 7.0776e-04 - val_mae: 0.0158\n",
      "Epoch 25/50\n",
      " - 1s - loss: 3.2772e-04 - mae: 0.0066 - val_loss: 7.1359e-04 - val_mae: 0.0159\n",
      "Epoch 26/50\n",
      " - 1s - loss: 3.2726e-04 - mae: 0.0066 - val_loss: 7.1728e-04 - val_mae: 0.0160\n",
      "Epoch 27/50\n",
      " - 1s - loss: 3.2695e-04 - mae: 0.0067 - val_loss: 7.1959e-04 - val_mae: 0.0161\n",
      "Epoch 28/50\n",
      " - 1s - loss: 3.2669e-04 - mae: 0.0067 - val_loss: 7.2108e-04 - val_mae: 0.0161\n",
      "Epoch 29/50\n",
      " - 1s - loss: 3.2646e-04 - mae: 0.0067 - val_loss: 7.2216e-04 - val_mae: 0.0162\n",
      "Epoch 30/50\n",
      " - 1s - loss: 3.2623e-04 - mae: 0.0067 - val_loss: 7.2294e-04 - val_mae: 0.0162\n",
      "Epoch 31/50\n",
      " - 1s - loss: 3.2603e-04 - mae: 0.0067 - val_loss: 7.2347e-04 - val_mae: 0.0162\n",
      "Epoch 32/50\n",
      " - 1s - loss: 3.2583e-04 - mae: 0.0067 - val_loss: 7.2377e-04 - val_mae: 0.0162\n",
      "Epoch 33/50\n",
      " - 1s - loss: 3.2565e-04 - mae: 0.0067 - val_loss: 7.2387e-04 - val_mae: 0.0162\n",
      "Epoch 34/50\n",
      " - 1s - loss: 3.2547e-04 - mae: 0.0067 - val_loss: 7.2384e-04 - val_mae: 0.0162\n",
      "Epoch 35/50\n",
      " - 1s - loss: 3.2530e-04 - mae: 0.0067 - val_loss: 7.2377e-04 - val_mae: 0.0162\n",
      "Epoch 36/50\n",
      " - 1s - loss: 3.2514e-04 - mae: 0.0067 - val_loss: 7.2358e-04 - val_mae: 0.0162\n",
      "Epoch 37/50\n",
      " - 1s - loss: 3.2499e-04 - mae: 0.0067 - val_loss: 7.2331e-04 - val_mae: 0.0162\n",
      "Epoch 38/50\n",
      " - 1s - loss: 3.2484e-04 - mae: 0.0066 - val_loss: 7.2296e-04 - val_mae: 0.0162\n",
      "Epoch 39/50\n",
      " - 1s - loss: 3.2470e-04 - mae: 0.0066 - val_loss: 7.2255e-04 - val_mae: 0.0162\n",
      "Epoch 40/50\n",
      " - 1s - loss: 3.2456e-04 - mae: 0.0066 - val_loss: 7.2209e-04 - val_mae: 0.0162\n",
      "Epoch 41/50\n",
      " - 1s - loss: 3.2443e-04 - mae: 0.0066 - val_loss: 7.2159e-04 - val_mae: 0.0161\n",
      "Epoch 42/50\n",
      " - 1s - loss: 3.2431e-04 - mae: 0.0066 - val_loss: 7.2104e-04 - val_mae: 0.0161\n",
      "Epoch 43/50\n",
      " - 1s - loss: 3.2419e-04 - mae: 0.0066 - val_loss: 7.2044e-04 - val_mae: 0.0161\n",
      "Epoch 44/50\n",
      " - 1s - loss: 3.2408e-04 - mae: 0.0066 - val_loss: 7.1981e-04 - val_mae: 0.0161\n",
      "Epoch 45/50\n",
      " - 1s - loss: 3.2397e-04 - mae: 0.0066 - val_loss: 7.1912e-04 - val_mae: 0.0161\n",
      "Epoch 46/50\n",
      " - 1s - loss: 3.2386e-04 - mae: 0.0066 - val_loss: 7.1839e-04 - val_mae: 0.0161\n",
      "Epoch 47/50\n",
      " - 1s - loss: 3.2376e-04 - mae: 0.0066 - val_loss: 7.1759e-04 - val_mae: 0.0160\n",
      "Epoch 48/50\n",
      " - 1s - loss: 3.2366e-04 - mae: 0.0066 - val_loss: 7.1681e-04 - val_mae: 0.0160\n",
      "Epoch 49/50\n",
      " - 1s - loss: 3.2356e-04 - mae: 0.0066 - val_loss: 7.1599e-04 - val_mae: 0.0160\n",
      "Epoch 50/50\n",
      " - 1s - loss: 3.2348e-04 - mae: 0.0066 - val_loss: 7.1517e-04 - val_mae: 0.0160\n"
     ]
    }
   ],
   "source": [
    "## Build model\n",
    "model = Sequential()\n",
    "\n",
    "model.add(LSTM(50, input_shape=(train_x.shape[1], train_x.shape[2])))\n",
    "model.add(Dense(1))\n",
    "\n",
    "model.compile(loss='mse', optimizer='rmsprop', metrics=['mae'])\n",
    "\n",
    "## fit mdoel\n",
    "history = model.fit(train_x, train_y, batch_size=64, epochs=50, validation_split=0.2, verbose=2, shuffle=False)\n"
   ]
  },
  {
   "cell_type": "code",
   "execution_count": 34,
   "metadata": {},
   "outputs": [
    {
     "data": {
      "image/png": "[encoded data removed]",
      "text/plain": [
       "<IPython.core.display.Image object>"
      ]
     },
     "execution_count": 34,
     "metadata": {},
     "output_type": "execute_result"
    }
   ],
   "source": [
    "from keras.utils import plot_model\n",
    "\n",
    "plot_model(model, './results/model.png', show_shapes=True)"
   ]
  },
  {
   "cell_type": "code",
   "execution_count": 35,
   "metadata": {},
   "outputs": [
    {
     "data": {
      "text/plain": [
       "dict_keys(['val_loss', 'val_mae', 'loss', 'mae'])"
      ]
     },
     "execution_count": 35,
     "metadata": {},
     "output_type": "execute_result"
    }
   ],
   "source": [
    "hist = history.history\n",
    "hist.keys()"
   ]
  },
  {
   "cell_type": "code",
   "execution_count": 36,
   "metadata": {},
   "outputs": [
    {
     "data": {
      "image/png": "[encoded data removed]",
      "text/plain": [
       "<Figure size 576x432 with 1 Axes>"
      ]
     },
     "metadata": {
      "needs_background": "light"
     },
     "output_type": "display_data"
    }
   ],
   "source": [
    "## 绘图\n",
    "fig = plt.figure(figsize=(8,6))\n",
    "\n",
    "plt.plot(hist['loss'], label='train_loss')\n",
    "plt.plot(hist['val_loss'], label='test_loss')\n",
    "\n",
    "plt.xlabel('epochs')\n",
    "plt.ylabel('loss')\n",
    "\n",
    "plt.legend()\n",
    "plt.show()\n",
    "\n",
    "fig.savefig('./results/lstm_1'+'loss.png')"
   ]
  },
  {
   "cell_type": "code",
   "execution_count": null,
   "metadata": {},
   "outputs": [],
   "source": []
  },
  {
   "cell_type": "code",
   "execution_count": null,
   "metadata": {},
   "outputs": [],
   "source": []
  },
  {
   "cell_type": "code",
   "execution_count": null,
   "metadata": {},
   "outputs": [],
   "source": []
  },
  {
   "cell_type": "markdown",
   "metadata": {},
   "source": [
    "# 实验结果"
   ]
  },
  {
   "cell_type": "code",
   "execution_count": 16,
   "metadata": {},
   "outputs": [],
   "source": [
    "# np.save('./results/pred', y_hat)\n",
    "# np.save('./data/train_x', train_x)\n",
    "# np.save('./data/train_y', train_y)\n",
    "# np.save('./data/test_x', test_x)\n",
    "# np.save('./data/test_y', test_y)\n",
    "\n",
    "\n",
    "# y_hat = np.load('./results/pred.npy','r')\n",
    "# test_x = np.save('./data/test_x', 'r')\n",
    "# test_y = np.save('./data/test_y', 'r')"
   ]
  },
  {
   "cell_type": "code",
   "execution_count": 37,
   "metadata": {},
   "outputs": [
    {
     "data": {
      "text/plain": [
       "((5034, 1),\n",
       " array([[-0.00257183],\n",
       "        [-0.00252807],\n",
       "        [-0.00252807],\n",
       "        ...,\n",
       "        [ 0.09357359],\n",
       "        [ 0.09357359],\n",
       "        [ 0.09357359]], dtype=float32))"
      ]
     },
     "execution_count": 37,
     "metadata": {},
     "output_type": "execute_result"
    }
   ],
   "source": [
    "y_hat = model.predict(test_x)\n",
    "y_hat.shape, y_hat"
   ]
  },
  {
   "cell_type": "code",
   "execution_count": 38,
   "metadata": {},
   "outputs": [
    {
     "name": "stdout",
     "output_type": "stream",
     "text": [
      "(3415,) [0.7  0.7  0.7  ... 7.6  8.34 9.07]\n",
      "真实数据最大值： 364.0\n",
      "预测数据均值： 0.9873667\n",
      "放大倍数： 368.6573678511855\n",
      "预测真实数据： [[-0.94812316]\n",
      " [-0.93199193]\n",
      " [-0.93199193]\n",
      " ...\n",
      " [34.496593  ]\n",
      " [34.496593  ]\n",
      " [34.496593  ]]\n"
     ]
    }
   ],
   "source": [
    "## 计算真实数据\n",
    "\n",
    "true_data = np.load('./data/data_2009.npy','r')\n",
    "true_data_chenhe = true_data[:, 1]\n",
    "true_data_chenhe_max = np.max(true_data_chenhe)\n",
    "print(true_data_chenhe.shape, true_data_chenhe)\n",
    "print(\"真实数据最大值：\",true_data_chenhe_max)\n",
    "\n",
    "\n",
    "pred_max = np.max(y_hat)\n",
    "print(\"预测数据均值：\", pred_max)\n",
    "\n",
    "Q_scale = true_data_chenhe_max/pred_max\n",
    "print(\"放大倍数：\",Q_scale)\n",
    "\n",
    "pred_data = y_hat * Q_scale\n",
    "\n",
    "print(\"预测真实数据：\", pred_data)"
   ]
  },
  {
   "cell_type": "code",
   "execution_count": null,
   "metadata": {},
   "outputs": [],
   "source": []
  },
  {
   "cell_type": "code",
   "execution_count": 39,
   "metadata": {},
   "outputs": [
    {
     "data": {
      "text/plain": [
       "[<matplotlib.lines.Line2D at 0x1a6244305f8>]"
      ]
     },
     "execution_count": 39,
     "metadata": {},
     "output_type": "execute_result"
    },
    {
     "data": {
      "image/png": "[encoded data removed]",
      "text/plain": [
       "<Figure size 432x288 with 1 Axes>"
      ]
     },
     "metadata": {
      "needs_background": "light"
     },
     "output_type": "display_data"
    }
   ],
   "source": [
    "plt.plot(pred_data[:3415])\n",
    "plt.plot(true_data_chenhe)"
   ]
  },
  {
   "cell_type": "code",
   "execution_count": null,
   "metadata": {},
   "outputs": [],
   "source": []
  },
  {
   "cell_type": "code",
   "execution_count": 40,
   "metadata": {},
   "outputs": [
    {
     "name": "stdout",
     "output_type": "stream",
     "text": [
      "Test RMSE: 27.3825\n"
     ]
    }
   ],
   "source": [
    "# Make a prediction\n",
    "y_hat = model.predict(test_x)\n",
    "test_x = test_x.reshape((test_x.shape[0], test_x.shape[2]))\n",
    "\n",
    "# invert scaling for forecast\n",
    "# scaler = MinMaxScaler(feature_range=(0,1))\n",
    "inv_yhat = concatenate((y_hat, test_x[:, 1:]), axis=1)\n",
    "# print(inv_yhat.shape)\n",
    "inv_yhat = scaler.inverse_transform(inv_yhat)\n",
    "inv_yhat = inv_yhat[:, 0]\n",
    "\n",
    "# invert scaling for actual\n",
    "test_y = test_y.reshape((len(test_y), 1))\n",
    "inv_y = concatenate((test_y, test_x[:, 1:]), axis=1)\n",
    "inv_y = scaler.inverse_transform(inv_y)\n",
    "inv_y = inv_y[:, 0]\n",
    "\n",
    "## Calculate RMSE\n",
    "rmse = sqrt(mean_squared_error(inv_y, inv_yhat))\n",
    "print(\"Test RMSE: %.4f\" %rmse)"
   ]
  },
  {
   "cell_type": "code",
   "execution_count": 41,
   "metadata": {},
   "outputs": [
    {
     "data": {
      "text/plain": [
       "<tf.Tensor: shape=(), dtype=float32, numpy=0.99341863>"
      ]
     },
     "execution_count": 41,
     "metadata": {},
     "output_type": "execute_result"
    }
   ],
   "source": [
    "# 决定系数\n",
    "R2 = r2(test_y, y_hat)\n",
    "R2"
   ]
  },
  {
   "cell_type": "code",
   "execution_count": 42,
   "metadata": {},
   "outputs": [
    {
     "data": {
      "text/plain": [
       "<tf.Tensor: shape=(5034, 1), dtype=float32, numpy=\n",
       "array([[       inf],\n",
       "       [       inf],\n",
       "       [       inf],\n",
       "       ...,\n",
       "       [0.06662317],\n",
       "       [0.06662317],\n",
       "       [0.06662317]], dtype=float32)>"
      ]
     },
     "execution_count": 42,
     "metadata": {},
     "output_type": "execute_result"
    }
   ],
   "source": [
    "# 洪峰相对误差\n",
    "RE = RE(test_y, y_hat)\n",
    "RE"
   ]
  },
  {
   "cell_type": "code",
   "execution_count": 43,
   "metadata": {},
   "outputs": [
    {
     "name": "stdout",
     "output_type": "stream",
     "text": [
      "真实洪峰出现时间： 3083\n",
      "预测洪峰出现时间： 3084\n",
      "峰现误差： 1\n"
     ]
    }
   ],
   "source": [
    "# # 峰现误差\n",
    "\n",
    "# delta_y = test_y - y_hat\n",
    "# print(delta_y.shape, delta_y)\n",
    "\n",
    "# t_true = np.equal(test_y, test_y)\n",
    "# print(t_true.shape)\n",
    "# t_true_ = np.where(t_true)[0]\n",
    "# print( 't_true_:', t_true_)\n",
    "\n",
    "# t_pred = np.equal(y_hat, y_hat)\n",
    "# print(t_pred.shape)\n",
    "# t_pred_ = np.where(t_pred)[0]\n",
    "# print('t_pred_:',t_pred_)\n",
    "\n",
    "# delta_time = t_true_ - t_pred_\n",
    "\n",
    "# delta_time\n",
    "\n",
    "# delta_t = delt_t(test_y, y_hat)\n",
    "# delt_t\n",
    "\n",
    "\n",
    "t1 = np.argmax(test_y)\n",
    "t2 = np.argmax(y_hat)\n",
    "\n",
    "delt_t = t2-t1\n",
    "print('真实洪峰出现时间：', t1)\n",
    "print('预测洪峰出现时间：', t2)\n",
    "print(\"峰现误差：\", delt_t)"
   ]
  },
  {
   "cell_type": "code",
   "execution_count": null,
   "metadata": {},
   "outputs": [],
   "source": []
  }
 ],
 "metadata": {
  "kernelspec": {
   "display_name": "Python [conda env:keras_gpu] *",
   "language": "python",
   "name": "conda-env-keras_gpu-py"
  },
  "language_info": {
   "codemirror_mode": {
    "name": "ipython",
    "version": 3
   },
   "file_extension": ".py",
   "mimetype": "text/x-python",
   "name": "python",
   "nbconvert_exporter": "python",
   "pygments_lexer": "ipython3",
   "version": "3.6.7"
  }
 },
 "nbformat": 4,
 "nbformat_minor": 4
}
